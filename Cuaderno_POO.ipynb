{
 "cells": [
  {
   "cell_type": "markdown",
   "id": "a0b60acd-7144-4b07-90db-c2d4d634fa71",
   "metadata": {},
   "source": [
    "## Creación de clases y objetos\n",
    "- Una clase es un plano o plantilla que define las propiedades (atributos) y comportamientos (métodos) que tendrán los objetos creados a partir de ella."
   ]
  },
  {
   "cell_type": "code",
   "execution_count": 1,
   "id": "c69a66be-3ea8-4cfd-bf41-6a366e900b1e",
   "metadata": {},
   "outputs": [
    {
     "name": "stdout",
     "output_type": "stream",
     "text": [
      "Hola, me llamoFrancisco y tengo 31 años\n",
      "None - Humano\n",
      "Hola, me llamoDanitza y tengo 29 años\n",
      "None - Humano\n"
     ]
    }
   ],
   "source": [
    "\"\"\"\n",
    "Para definir una clase hay que seguir el estándar CamelCase\n",
    "Creación de la clase Persona\n",
    "    - Tiene un atributo de clase (aplicable a todos los objetos) -> especie\n",
    "    - Tiene un método saludar() y un método que inicializa cada objeto\n",
    "\"\"\"\n",
    "class Persona:\n",
    "    \n",
    "    \"Atributo de clase (aplicable a todos los objetos)\"\n",
    "    especie = \"Humano\"\n",
    "\n",
    "    \"Un constructor es un método que se ejecuta siempre, justo al crear cada objeto\"\n",
    "    def __init__(self,nombre,edad):\n",
    "        self.nombre = nombre\n",
    "        self.edad = edad\n",
    "\n",
    "    \"Método (función de la clase): hace una acción determinada\"\n",
    "    def saludar(self):\n",
    "        print(F\"Hola, me llamo{self.nombre} y tengo {self.edad} años\")\n",
    "\n",
    "persona1 = Persona(\"Francisco\", 31)\n",
    "persona2 = Persona(\"Danitza\", 29)\n",
    "\n",
    "print(F\"{persona1.saludar()} - {persona1.especie}\")\n",
    "print(F\"{persona2.saludar()} - {persona2.especie}\")"
   ]
  },
  {
   "cell_type": "code",
   "execution_count": 2,
   "id": "3d231826-2e09-4b49-bcf2-70ef48c6f7c3",
   "metadata": {},
   "outputs": [
    {
     "name": "stdout",
     "output_type": "stream",
     "text": [
      "El radio es = 5\n"
     ]
    }
   ],
   "source": [
    "class Circulo:\n",
    "    def __init__(self, radio: float):\n",
    "        self.radio = radio\n",
    "\n",
    "objeto_circulo = Circulo(5)\n",
    "print(F\"El radio es = {objeto_circulo.radio}\")"
   ]
  },
  {
   "cell_type": "markdown",
   "id": "0a1f8dc5-e559-4b73-aefa-5c89882b5e21",
   "metadata": {},
   "source": [
    "**Encapsulamiento y visibilidad**\n",
    "- Públicos: Sin guiones bajos (e.g., nombre).\n",
    "- Protegidos: Un guión bajo (e.g., _nombre).\n",
    "- Privados: Dos guiones bajos (e.g., __nombre)."
   ]
  },
  {
   "cell_type": "code",
   "execution_count": 3,
   "id": "ceedd337-ffd5-48a6-9869-f3527215f55d",
   "metadata": {},
   "outputs": [
    {
     "name": "stdout",
     "output_type": "stream",
     "text": [
      "0\n",
      "500\n"
     ]
    }
   ],
   "source": [
    "class Cuenta:\n",
    "    def __init__(self, saldo: float):\n",
    "        self.__saldo = saldo\n",
    "\n",
    "    def get_saldo(self):\n",
    "        return self.__saldo\n",
    "\n",
    "    def set_saldo(self, saldo: float):\n",
    "        if saldo >= 0:\n",
    "            self.__saldo = saldo\n",
    "        else:\n",
    "            print(\"!Error¡ El saldo no puede ser negativo\")\n",
    "\n",
    "cuenta_bancaria = Cuenta(0)\n",
    "print(cuenta_bancaria.get_saldo())\n",
    "cuenta_bancaria.set_saldo(500)\n",
    "print(cuenta_bancaria.get_saldo())"
   ]
  },
  {
   "cell_type": "markdown",
   "id": "02851126-3959-4dfe-9484-9b0769e3e8b3",
   "metadata": {},
   "source": [
    "**Uso de decoradores**"
   ]
  },
  {
   "cell_type": "code",
   "execution_count": 4,
   "id": "e4ed92b1-e152-4b3c-bccc-573c68a00f2f",
   "metadata": {},
   "outputs": [
    {
     "name": "stdout",
     "output_type": "stream",
     "text": [
      "100\n",
      "200\n"
     ]
    }
   ],
   "source": [
    "class Producto:\n",
    "\n",
    "    def __init__(self, precio):\n",
    "        self.__precio = precio\n",
    "\n",
    "    @property\n",
    "    def precio(self):\n",
    "        return self.__precio\n",
    "\n",
    "    @precio.setter\n",
    "    def precio(self, valor):\n",
    "        self.__precio = valor\n",
    "\n",
    "producto1 = Producto(100)\n",
    "print(producto1.precio)\n",
    "producto1.precio = 200\n",
    "print(producto1.precio)"
   ]
  },
  {
   "cell_type": "markdown",
   "id": "ce63689f-c040-4ac5-ada0-c3477c159d2d",
   "metadata": {},
   "source": [
    "**Herencia en la programación orientado a objeto**"
   ]
  },
  {
   "cell_type": "code",
   "execution_count": 5,
   "id": "c9fd1ff9-7bcf-44eb-88c4-9b5ee955e48c",
   "metadata": {},
   "outputs": [
    {
     "name": "stdout",
     "output_type": "stream",
     "text": [
      "El animal come...\n",
      "El perro ladra...\n"
     ]
    }
   ],
   "source": [
    "# Herencia Simple\n",
    "class Animal:\n",
    "    \n",
    "    def comer(self) -> None:\n",
    "        print(\"El animal come...\")\n",
    "\n",
    "class Perro(Animal):\n",
    "    def ladrar(self) -> None:\n",
    "        print(\"El perro ladra...\")\n",
    "\n",
    "cuckie = Perro()\n",
    "cuckie.comer()\n",
    "cuckie.ladrar()\n"
   ]
  },
  {
   "cell_type": "code",
   "execution_count": 10,
   "id": "39d00672-c8b4-4c72-b0d2-31a925f979c5",
   "metadata": {},
   "outputs": [
    {
     "name": "stdout",
     "output_type": "stream",
     "text": [
      "El animal se desplaza nadando\n"
     ]
    }
   ],
   "source": [
    "#Herencia multiple\n",
    "class Terrestre:\n",
    "    \n",
    "    def desplazar(self) -> None:\n",
    "        print(\"El animal se desplaza nadando\")\n",
    "\n",
    "class Acuatico:\n",
    "    def desplazar(self) -> None:\n",
    "        print(\"El animal se desplaza nadando\")\n",
    "\n",
    "class Anfibio(Terrestre, Acuatico):\n",
    "    pass\n",
    "\n",
    "hakulin = Anfibio()\n",
    "hakulin.desplazar()"
   ]
  },
  {
   "cell_type": "markdown",
   "id": "756ceb9d-cb87-4223-83c2-73b09e33238f",
   "metadata": {},
   "source": [
    "**Polimorfismo**"
   ]
  },
  {
   "cell_type": "code",
   "execution_count": 17,
   "id": "04246bd9-c8ea-4f3d-ab78-ada7ebb58a6d",
   "metadata": {},
   "outputs": [
    {
     "name": "stdout",
     "output_type": "stream",
     "text": [
      "El ave vuela\n",
      "Objeto de la clase Ave = None\n",
      "El avión vuela\n",
      "Objeto de la clase Avion = None\n"
     ]
    }
   ],
   "source": [
    "class Ave:\n",
    "\n",
    "    def volar(self):\n",
    "        print(\"El ave vuela\")\n",
    "\n",
    "class Avion:\n",
    "    def volar(self):\n",
    "        print(\"El avión vuela\")\n",
    "    \n",
    "def hacer_volar(objeto):\n",
    "    objeto.volar()\n",
    "\n",
    "#Código para probar las clases y el polimorfismo\n",
    "\n",
    "pajaro = Ave()\n",
    "boeing = Avion()\n",
    "\n",
    "print(F\"Objeto de la clase Ave = {pajaro.volar()}\")\n",
    "print(F\"Objeto de la clase Avion = {boeing.volar()}\")\n"
   ]
  },
  {
   "cell_type": "code",
   "execution_count": null,
   "id": "e9c4aad0-f3ac-4f9f-ac31-671f63de1567",
   "metadata": {},
   "outputs": [],
   "source": []
  }
 ],
 "metadata": {
  "kernelspec": {
   "display_name": "Python 3 (ipykernel)",
   "language": "python",
   "name": "python3"
  },
  "language_info": {
   "codemirror_mode": {
    "name": "ipython",
    "version": 3
   },
   "file_extension": ".py",
   "mimetype": "text/x-python",
   "name": "python",
   "nbconvert_exporter": "python",
   "pygments_lexer": "ipython3",
   "version": "3.12.7"
  }
 },
 "nbformat": 4,
 "nbformat_minor": 5
}
